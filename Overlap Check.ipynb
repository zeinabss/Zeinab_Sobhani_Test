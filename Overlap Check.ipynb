{
 "cells": [
  {
   "cell_type": "code",
   "execution_count": 15,
   "metadata": {},
   "outputs": [
    {
     "name": "stdout",
     "output_type": "stream",
     "text": [
      "(1, 2) and (2, 3) don't overlap\n",
      "(1, 4) and (2, 3) overlap\n",
      "(2, 4) and (1, 3) overlap\n",
      "(-1, 0) and (0, 1) don't overlap\n",
      "(-1, 1) and (0, 1) overlap\n",
      "(-5, -1) and (-3, -2) overlap\n",
      "(-10, -5) and (-4, -3) don't overlap\n",
      "(1, 2) and (1, 2) overlap\n"
     ]
    }
   ],
   "source": [
    "# isoverlap function checks whether two priveded ranges in the format of two tuple range1=(x1,x2) and range2=(x3,x4) overlap\n",
    "def isoverlap(range1,range2):\n",
    "    ranges=[range1,range2]\n",
    "    try:\n",
    "        ranges=sorted(ranges, key=lambda x:x[0])\n",
    "        x2=ranges[0][1]\n",
    "        x3=ranges[1][0]\n",
    "    except Exception:\n",
    "        return print('arguments should be tuples')\n",
    "    if x3<x2:\n",
    "        return True \n",
    "    return False\n",
    "\n",
    "#test for different test cases\n",
    "if __name__ == '__main__':\n",
    "    \n",
    "    test_cases=[((1,2),(2,3)),((1,4),(2,3)),((2,4),(1,3)),((-1,0),(0,1)),((-1,1),(0,1)),((-5,-1),(-3,-2)),((-10,-5),(-4,-3)),((1,2),(1,2))]\n",
    "    \n",
    "    for range1,range2 in test_cases:\n",
    "        if isoverlap(range1,range2):\n",
    "            print('{} and {} overlap'.format(range1,range2))\n",
    "        else:\n",
    "            print(\"{} and {} don't overlap\".format(range1,range2))\n",
    "        "
   ]
  }
 ],
 "metadata": {
  "kernelspec": {
   "display_name": "Python 3",
   "language": "python",
   "name": "python3"
  },
  "language_info": {
   "codemirror_mode": {
    "name": "ipython",
    "version": 3
   },
   "file_extension": ".py",
   "mimetype": "text/x-python",
   "name": "python",
   "nbconvert_exporter": "python",
   "pygments_lexer": "ipython3",
   "version": "3.7.1"
  }
 },
 "nbformat": 4,
 "nbformat_minor": 2
}
