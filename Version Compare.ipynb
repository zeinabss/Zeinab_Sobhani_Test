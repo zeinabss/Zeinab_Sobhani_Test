{
 "cells": [
  {
   "cell_type": "code",
   "execution_count": 18,
   "metadata": {},
   "outputs": [
    {
     "name": "stdout",
     "output_type": "stream",
     "text": [
      "1.1.1 is greater than 1.1\n",
      "2.1 is greater than 1.1\n",
      "1 is less than 1.1\n",
      "v1.3 is greater than v1.2\n",
      "3-1 is less than 3-3\n",
      "3/1 is less than 3/22\n",
      "10.1 is equal 10.1\n"
     ]
    }
   ],
   "source": [
    "# version_check function recieves two version strings s1 and s2, and compare them. \n",
    "def version_check(s1,s2):\n",
    "        \n",
    "    if s1>s2:\n",
    "        return print('{} is greater than {}'.format(s1,s2))\n",
    "    elif s1==s2:\n",
    "        return print('{} is equal {}'.format(s1,s2))\n",
    "    else:\n",
    "        return print('{} is less than {}'.format(s1,s2))\n",
    "\n",
    "#test for different test cases\n",
    "if __name__ == '__main__':\n",
    "    \n",
    "    test_cases=[('1.1.1','1.1'),('2.1','1.1'),('1','1.1'),('v1.3','v1.2'),('3-1','3-3'),('3/1','3/22'),('10.1','10.1')]\n",
    "    \n",
    "    for s1,s2 in test_cases:\n",
    "        version_check(s1,s2)"
   ]
  },
  {
   "cell_type": "code",
   "execution_count": null,
   "metadata": {},
   "outputs": [],
   "source": []
  }
 ],
 "metadata": {
  "kernelspec": {
   "display_name": "Python 3",
   "language": "python",
   "name": "python3"
  },
  "language_info": {
   "codemirror_mode": {
    "name": "ipython",
    "version": 3
   },
   "file_extension": ".py",
   "mimetype": "text/x-python",
   "name": "python",
   "nbconvert_exporter": "python",
   "pygments_lexer": "ipython3",
   "version": "3.7.1"
  }
 },
 "nbformat": 4,
 "nbformat_minor": 2
}
